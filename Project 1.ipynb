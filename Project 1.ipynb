{
 "cells": [
  {
   "cell_type": "code",
   "execution_count": 25,
   "metadata": {},
   "outputs": [],
   "source": [
    "'''\n",
    "This is a simple game where an initial list is displayed.\n",
    "\n",
    "The user who is playing this can then input the position they want to add\n",
    "their own value followed by the value\n",
    "\n",
    "'''\n",
    "\n",
    "game_list = [0, 1, 2, 3, 4, 5]"
   ]
  },
  {
   "cell_type": "code",
   "execution_count": 26,
   "metadata": {},
   "outputs": [],
   "source": [
    "'''\n",
    "This function is used to display the current game list\n",
    "'''\n",
    "\n",
    "def display_game(game_list):\n",
    "    \n",
    "    print(\"Here is the current list: \")\n",
    "    \n",
    "    print(game_list)"
   ]
  },
  {
   "cell_type": "code",
   "execution_count": 27,
   "metadata": {},
   "outputs": [],
   "source": [
    "'''\n",
    "\n",
    "This function asks the user to enter their desired position where \n",
    "they want to make changes in the game list\n",
    "\n",
    "'''\n",
    "\n",
    "\n",
    "def position_choice():\n",
    "    \n",
    "    choice = 'Wrong'\n",
    "    \n",
    "    while choice not in ['0', '1', '2', '3', '4', '5']:\n",
    "        \n",
    "        choice = input(\"Select a position (0-6): \")\n",
    "        \n",
    "        if choice not in ['0', '1', '2', '3', '4', '5']:\n",
    "            print(\"Sorry, invalid position choice\")\n",
    "            \n",
    "    return int(choice)"
   ]
  },
  {
   "cell_type": "code",
   "execution_count": 28,
   "metadata": {},
   "outputs": [],
   "source": [
    "'''\n",
    "\n",
    "This function asks the user the value which they want to send in the game list\n",
    "\n",
    "'''\n",
    "def replacement_choice(game_list,position):\n",
    "    \n",
    "    user_value = input(\"Enter the desired value you want to enter in the game list\")\n",
    "    \n",
    "    game_list[position] = user_value\n",
    "    \n",
    "    return game_list"
   ]
  },
  {
   "cell_type": "code",
   "execution_count": 29,
   "metadata": {},
   "outputs": [],
   "source": [
    "'''\n",
    "This function asks the user if they want to continue the game or not\n",
    "\n",
    "'''\n",
    "def game_on_or_off():\n",
    "    \n",
    "    choice = 'Wrong'\n",
    "    \n",
    "    while choice not in ['Y', 'N', 'y', 'n']:\n",
    "        \n",
    "        choice = input(\"Do you want to keep playing? (Y or N): \")\n",
    "        \n",
    "        if choice not in ['Y', 'N', 'y', 'n']:\n",
    "            \n",
    "            print(\"Sorry, invalid choice, please choose Y or N\")\n",
    "            \n",
    "            \n",
    "    if choice == \"Y\" or choice == \"y\":\n",
    "        \n",
    "        return True\n",
    "    \n",
    "    else:\n",
    "        \n",
    "        return False"
   ]
  },
  {
   "cell_type": "code",
   "execution_count": 30,
   "metadata": {},
   "outputs": [
    {
     "name": "stdout",
     "output_type": "stream",
     "text": [
      "Here is the current list: \n",
      "[0, 1, 2, 3, 4, 5]\n",
      "Select a position (0-6): 4\n",
      "Enter the desired value you want to enter in the game listfour\n",
      "Here is the current list: \n",
      "[0, 1, 2, 3, 'four', 5]\n",
      "Do you want to keep playing? (Y or N): N\n"
     ]
    }
   ],
   "source": [
    "'''\n",
    "This is the main game code where all the above functions come together\n",
    "\n",
    "'''\n",
    "\n",
    "game_play = True\n",
    "\n",
    "game_list = [0, 1, 2, 3, 4, 5]\n",
    "\n",
    "\n",
    "while game_play:\n",
    "    \n",
    "    display_game(game_list)\n",
    "    \n",
    "    position = position_choice()\n",
    "    \n",
    "    game_list = replacement_choice(game_list,position)\n",
    "    \n",
    "    display_game(game_list)\n",
    "    \n",
    "    game_play = game_on_or_off()"
   ]
  },
  {
   "cell_type": "code",
   "execution_count": null,
   "metadata": {},
   "outputs": [],
   "source": []
  }
 ],
 "metadata": {
  "kernelspec": {
   "display_name": "Python 3",
   "language": "python",
   "name": "python3"
  },
  "language_info": {
   "codemirror_mode": {
    "name": "ipython",
    "version": 3
   },
   "file_extension": ".py",
   "mimetype": "text/x-python",
   "name": "python",
   "nbconvert_exporter": "python",
   "pygments_lexer": "ipython3",
   "version": "3.7.6"
  }
 },
 "nbformat": 4,
 "nbformat_minor": 4
}
